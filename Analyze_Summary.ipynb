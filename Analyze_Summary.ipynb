{
  "nbformat": 4,
  "nbformat_minor": 0,
  "metadata": {
    "colab": {
      "provenance": []
    },
    "kernelspec": {
      "name": "python3",
      "display_name": "Python 3"
    },
    "language_info": {
      "name": "python"
    }
  },
  "cells": [
    {
      "cell_type": "code",
      "execution_count": null,
      "metadata": {
        "colab": {
          "base_uri": "https://localhost:8080/"
        },
        "id": "W4S45_RSCGBU",
        "outputId": "24de0e4d-512a-4421-f9eb-2da3f64efeb7"
      },
      "outputs": [
        {
          "output_type": "stream",
          "name": "stdout",
          "text": [
            "Klasifikasi selesai. Hasil disimpan dalam file 'classified_data.xlsx'\n"
          ]
        }
      ],
      "source": [
        "import pandas as pd\n",
        "import re\n",
        "from openpyxl import Workbook\n",
        "\n",
        "# Daftar kata kunci untuk setiap kategori\n",
        "categories = {\n",
        "    \"Aviation Incident\": [\"plane\", \"flight\"],\n",
        "    \"Human Error\": [\"crew\", \"captain\", \"pilot error\"],\n",
        "    \"Accident\": [\"takeoff\", \"approach\", \"crash\", \"fire\", \"collision\"],\n",
        "    \"Mechanical Failure\": [\"engine\", \"failure\"]\n",
        "}\n",
        "\n",
        "# Fungsi untuk menentukan kategori peristiwa\n",
        "def classify_event(event):\n",
        "    if pd.isna(event):\n",
        "        return \"Unidentified\"\n",
        "    for category, keywords in categories.items():\n",
        "        for keyword in keywords:\n",
        "            if re.search(r'\\b' + keyword + r'\\b', event, re.IGNORECASE):\n",
        "                return category\n",
        "    return \"Other\"\n",
        "\n",
        "# Membaca data dari file CSV menggunakan Pandas\n",
        "input_file = '/content/crash_fatality - Sheet5.csv'\n",
        "output_file = 'classified_data.xlsx'\n",
        "\n",
        "data = pd.read_csv(input_file)\n",
        "\n",
        "# Klasifikasi setiap peristiwa\n",
        "data['Category'] = data['Summary'].apply(classify_event)\n",
        "\n",
        "# Membuat file Excel\n",
        "wb = Workbook()\n",
        "ws = wb.active\n",
        "\n",
        "# Menulis data ke dalam file Excel\n",
        "ws.append(['Summary', 'Category'])\n",
        "for index, row in data.iterrows():\n",
        "    ws.append([row['Summary'], row['Category']])\n",
        "\n",
        "# Menyimpan hasil ke dalam file Excel\n",
        "wb.save(output_file)\n",
        "\n",
        "print(\"Klasifikasi selesai. Hasil disimpan dalam file 'classified_data.xlsx'\")\n"
      ]
    }
  ]
}